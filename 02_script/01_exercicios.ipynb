{
 "cells": [
  {
   "cell_type": "code",
   "execution_count": null,
   "id": "1d77c61f",
   "metadata": {},
   "outputs": [],
   "source": [
    "import pandas as pd\n",
    "import numpy as np\n",
    "import matplotlib.pyplot as plt\n",
    "import os"
   ]
  },
  {
   "cell_type": "code",
   "execution_count": null,
   "id": "fdb1c5b6",
   "metadata": {},
   "outputs": [],
   "source": [
    "base_bank = pd.read_csv(\"../01_base/bank.csv\")"
   ]
  },
  {
   "cell_type": "code",
   "execution_count": null,
   "id": "d56483fb",
   "metadata": {},
   "outputs": [],
   "source": [
    "#* 📌 **Exercício 1:** Quantos clientes participaram da campanha?\n",
    "total_cliente = base_bank.shape[0]\n",
    "print(total_cliente)"
   ]
  },
  {
   "cell_type": "code",
   "execution_count": null,
   "id": "c17dcc9a",
   "metadata": {},
   "outputs": [],
   "source": [
    "#* 📌 **Exercício 2:** Idade média, mínima e máxima dos clientes. (arredondando e cortando as casas decimais)\n",
    "idade_min = int(round(base_bank[\"age\"].min(),0))\n",
    "idade_max = int(round(base_bank[\"age\"].max(),0))\n",
    "idade_med = int(round(base_bank[\"age\"].mean(),0))\n",
    "\n",
    "print(\"Idade Minima:\", idade_min)\n",
    "print(\"Idade Maxima:\", idade_max)\n",
    "print(\"Idade Media:\", idade_med)"
   ]
  },
  {
   "cell_type": "code",
   "execution_count": null,
   "id": "c72785cf",
   "metadata": {},
   "outputs": [],
   "source": [
    "#* 📌 **Exercício 3:** Qual o saldo médio em conta? (arredondando duas casas)\n",
    "saldo_medio = round(base_bank[\"balance\"].mean(),2)\n",
    "print(saldo_medio)"
   ]
  },
  {
   "cell_type": "code",
   "execution_count": null,
   "id": "f25d68f5",
   "metadata": {},
   "outputs": [],
   "source": [
    "qntd_deposit = base_bank[\"deposit\"].value_counts()\n",
    "\n",
    "plt.figure(figsize=(8, 8))\n",
    "plt.pie(qntd_deposit, labels=qntd_deposit, autopct=\"%1.1f%%\", startangle=90)\n",
    "\n",
    "plt.title(\"Distribuição de Deposito\")\n",
    "plt.axis(\"equal\")\n",
    "\n",
    "\n",
    "plt.savefig(\"../03_saida/distribuicao_deposito.png\", dpi=300, bbox_inches=\"tight\")\n",
    "plt.show()\n"
   ]
  }
 ],
 "metadata": {
  "kernelspec": {
   "display_name": "Python 3",
   "language": "python",
   "name": "python3"
  },
  "language_info": {
   "codemirror_mode": {
    "name": "ipython",
    "version": 3
   },
   "file_extension": ".py",
   "mimetype": "text/x-python",
   "name": "python",
   "nbconvert_exporter": "python",
   "pygments_lexer": "ipython3",
   "version": "3.13.3"
  }
 },
 "nbformat": 4,
 "nbformat_minor": 5
}
