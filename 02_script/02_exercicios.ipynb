{
 "cells": [
  {
   "cell_type": "code",
   "execution_count": null,
   "id": "3b8a8e72",
   "metadata": {},
   "outputs": [],
   "source": [
    "import pandas as pd\n",
    "import numpy as np\n",
    "import matplotlib.pyplot as plt"
   ]
  },
  {
   "cell_type": "code",
   "execution_count": null,
   "id": "f5aea1d6",
   "metadata": {},
   "outputs": [],
   "source": [
    "base_bank = pd.read_csv(r\"/home/melatto/Documentos/bank-main/01_base/bank.csv\")"
   ]
  },
  {
   "cell_type": "code",
   "execution_count": 23,
   "id": "9a92ad8f",
   "metadata": {},
   "outputs": [
    {
     "data": {
      "image/png": "[encoded data removed]",
      "text/plain": [
       "<Figure size 1000x600 with 1 Axes>"
      ]
     },
     "metadata": {},
     "output_type": "display_data"
    }
   ],
   "source": [
    "#* 📌 **Exercício 6:** Taxa de adesão ao depósito por faixa etária (ex.: 18-30, 31-45, 46-60, 60+).\n",
    "\n",
    "bins = [18, 30, 45, 60, float(\"inf\")]\n",
    "labels = [\"18-30\", \"31-45\", \"46-60\", \"60+\"]\n",
    "base_bank[\"faixa_etaria\"] = pd.cut(base_bank[\"age\"], bins=bins, labels=labels, right=True)\n",
    "\n",
    "venda_por_idade = base_bank[base_bank[\"deposit\"] == \"yes\"].groupby(\"faixa_etaria\", observed=True)[\"deposit\"].count()\n",
    "\n",
    "plt.figure(figsize=(10, 6))\n",
    "venda_por_idade.plot(kind=\"bar\")\n",
    "\n",
    "plt.title(\"Taxa de Adesão por Faixa Etária\")\n",
    "plt.xlabel(\"Faixa Etaria\")\n",
    "plt.ylabel(\"Numero de Deposito\")\n",
    "\n",
    "plt.xticks(rotation=0)\n",
    "plt.show()\n"
   ]
  },
  {
   "cell_type": "code",
   "execution_count": null,
   "id": "948221b7",
   "metadata": {},
   "outputs": [],
   "source": [
    "#* 📌 **Exercício 7:** Comparar taxa de adesão entre solteiros, casados e divorciados.\n",
    "\n",
    "status_civil =base_bank[\"marital\"].value_counts()\n",
    "\n",
    "labels = status_civil.index\n",
    "sizes = status_civil.values\n",
    "\n",
    "plt.figure(figsize=(8, 8))\n",
    "plt.pie(sizes, labels=labels, autopct=\"%1.1f%%\", startangle=90, colors=plt.cm.Paired.colors)\n",
    "\n",
    "plt.title(\"Distribuição de Status Civil\")\n",
    "plt.axis(\"equal\")\n",
    "plt.show()"
   ]
  },
  {
   "cell_type": "code",
   "execution_count": null,
   "id": "8d080adc",
   "metadata": {},
   "outputs": [],
   "source": [
    "#* 📌 **Exercício 8:** Verificar se quem já tinha **empréstimo pessoal (`loan`)** respondeu mais ou menos à campanha.\n",
    "\n",
    "aderencia = pd.crosstab(base_bank[\"loan\"], base_bank[\"deposit\"])\n",
    "\n",
    "aderencia.plot(kind=\"bar\", stacked=True, figsize=(10,6), color= [\"red\", \"green\"])\n",
    "plt.title('Adesão à Campanha por Status de Empréstimo', fontsize=16)\n",
    "plt.xlabel('Possui Empréstimo Pessoal?', fontsize=12)\n",
    "plt.ylabel('Número de Pessoas', fontsize=12)\n",
    "plt.xticks(rotation=0)\n",
    "plt.legend(title='Adesão à Campanha', loc='upper right')\n",
    "\n",
    "for i, (index, row) in enumerate(aderencia.iterrows()): # Este loop itera sobre cada barra (yes/no) e adiciona o valor correspondente\n",
    "    plt.text(i, row[\"no\"] / 2, str(row[\"no\"]), ha=\"center\", va=\"center\", color=\"white\", fontweight=\"bold\")\n",
    "    plt.text(i, row[\"no\"] + row[\"yes\"] / 2, str(row[\"yes\"]), ha=\"center\", va=\"center\", color=\"white\", fontweight=\"bold\")\n",
    "\n",
    "plt.show()"
   ]
  },
  {
   "cell_type": "code",
   "execution_count": null,
   "id": "1b311365",
   "metadata": {},
   "outputs": [],
   "source": [
    "#* 📌 **Exercício 9:** Analisar o saldo médio de quem contratou vs quem não contratou.\n",
    "\n",
    "saldo_medio = round(base_bank.groupby(\"deposit\")[\"balance\"].mean(), 2)\n",
    "\n",
    "plt.figure(figsize=(8, 6))\n",
    "saldo_medio.plot(kind=\"bar\", color=[\"red\", \"green\"])\n",
    "plt.title(\"Saldo Médio de Clientes que Contrataram vs. Não Contrataram\")\n",
    "plt.xlabel(\"Adesão a Campanha\")\n",
    "plt.ylabel(\"Saldo Médio\")\n",
    "plt.xticks(rotation=0)\n",
    "\n",
    "\n",
    "for index, value in enumerate(saldo_medio):\n",
    "    plt.text(index, value + 10, f\"{value:.2f}\", ha=\"center\", va=\"bottom\")\n",
    "\n",
    "plt.show()"
   ]
  },
  {
   "cell_type": "code",
   "execution_count": null,
   "id": "6b733a3b",
   "metadata": {},
   "outputs": [],
   "source": [
    "# * 📌 **Exercício 10:** Ranking de profissões com maior taxa de adesão.\n",
    "\n",
    "profissoes_aderencia = round(base_bank.groupby(\"job\")[\"deposit\"].apply(lambda x: (x == \"yes\").mean() * 100), 2)\n",
    "\n",
    "plt.figure(figsize=(12, 8))\n",
    "profissoes_aderencia.plot(kind= \"barh\", color= \"skyblue\")\n",
    "plt.title(\"Ranking de Maior Adesão pro Profissão\")\n",
    "plt.xlabel(\"Taxa de Adesão (%)\")\n",
    "plt.ylabel(\"Profissão\")\n",
    "\n",
    "for index, value in enumerate(profissoes_aderencia):\n",
    "    plt.text(value / 2, index, f\"{value:.2f}%\", ha= \"left\", va= \"center\")\n",
    "\n",
    "\n",
    "plt.gca().invert_yaxis()\n",
    "plt.show()"
   ]
  }
 ],
 "metadata": {
  "kernelspec": {
   "display_name": "base",
   "language": "python",
   "name": "python3"
  },
  "language_info": {
   "codemirror_mode": {
    "name": "ipython",
    "version": 3
   },
   "file_extension": ".py",
   "mimetype": "text/x-python",
   "name": "python",
   "nbconvert_exporter": "python",
   "pygments_lexer": "ipython3",
   "version": "3.13.5"
  }
 },
 "nbformat": 4,
 "nbformat_minor": 5
}
